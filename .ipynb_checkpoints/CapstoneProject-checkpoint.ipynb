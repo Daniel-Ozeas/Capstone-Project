{
 "cells": [
  {
   "cell_type": "markdown",
   "metadata": {
    "editable": true
   },
   "source": [
    "# Project Title\n",
    "### Data Engineering Capstone Project\n",
    "\n",
    "#### Project Summary\n",
    "The temperature of the Earth is increasing with the years and find some conclusions using the data collected along of decades maybe can help Governments and scientist to take better decisions.\n",
    "\n",
    "When talk about data analyzes, is important to have easy datasets to start the job. In this project, the goal is put all data in a star schema, which is fast to do joins and also flexible to complement the fact table with any dimension table available. Furthermore, the idea here is find the maximum number of footprint score possible to the cities present in GlobalLandTemperaturesByCity.csv processing every single rows present in S3 bucket using Spark and return to S3 in parquet format.  \n",
    "\n",
    "The project follows the follow steps:\n",
    "* Step 1: Scope the Project and Gather Data\n",
    "* Step 2: Explore and Assess the Data\n",
    "* Step 3: Define the Data Model\n",
    "* Step 4: Run ETL to Model the Data\n",
    "* Step 5: Complete Project Write Up"
   ]
  },
  {
   "cell_type": "code",
   "execution_count": 1,
   "metadata": {
    "editable": true
   },
   "outputs": [
    {
     "data": {
      "application/vnd.jupyter.widget-view+json": {
       "model_id": "e042c9ac150f46f5b90e78cbe142a5b6",
       "version_major": 2,
       "version_minor": 0
      },
      "text/plain": [
       "VBox()"
      ]
     },
     "metadata": {},
     "output_type": "display_data"
    },
    {
     "name": "stdout",
     "output_type": "stream",
     "text": [
      "Starting Spark application\n"
     ]
    },
    {
     "data": {
      "text/html": [
       "<table>\n",
       "<tr><th>ID</th><th>YARN Application ID</th><th>Kind</th><th>State</th><th>Spark UI</th><th>Driver log</th><th>Current session?</th></tr><tr><td>5</td><td>application_1591013111460_0006</td><td>pyspark</td><td>idle</td><td><a target=\"_blank\" href=\"http://ip-172-31-62-153.us-west-2.compute.internal:20888/proxy/application_1591013111460_0006/\">Link</a></td><td><a target=\"_blank\" href=\"http://ip-172-31-60-122.us-west-2.compute.internal:8042/node/containerlogs/container_1591013111460_0006_01_000001/livy\">Link</a></td><td>✔</td></tr></table>"
      ],
      "text/plain": [
       "<IPython.core.display.HTML object>"
      ]
     },
     "metadata": {},
     "output_type": "display_data"
    },
    {
     "data": {
      "application/vnd.jupyter.widget-view+json": {
       "model_id": "",
       "version_major": 2,
       "version_minor": 0
      },
      "text/plain": [
       "FloatProgress(value=0.0, bar_style='info', description='Progress:', layout=Layout(height='25px', width='50%'),…"
      ]
     },
     "metadata": {},
     "output_type": "display_data"
    },
    {
     "name": "stdout",
     "output_type": "stream",
     "text": [
      "SparkSession available as 'spark'.\n"
     ]
    },
    {
     "data": {
      "application/vnd.jupyter.widget-view+json": {
       "model_id": "",
       "version_major": 2,
       "version_minor": 0
      },
      "text/plain": [
       "FloatProgress(value=0.0, bar_style='info', description='Progress:', layout=Layout(height='25px', width='50%'),…"
      ]
     },
     "metadata": {},
     "output_type": "display_data"
    }
   ],
   "source": [
    "# Do all imports and installs here\n",
    "from pyspark.sql import SparkSession\n",
    "from pyspark.sql.functions import year, month, dayofmonth\n",
    "from pyspark.sql.functions import monotonically_increasing_id, col, lit\n",
    "from pyspark.sql.types import StructType, StructField, IntegerType, StringType, TimestampType, FloatType, DateType"
   ]
  },
  {
   "cell_type": "markdown",
   "metadata": {
    "editable": true
   },
   "source": [
    "### Step 1: Scope the Project and Gather Data\n",
    "\n",
    "#### Scope\n",
    "\n",
    "The final table of the project need be like the schema below.\n",
    "\n",
    "![Goal](./img/goal.png)\n",
    "\n",
    "#### Describe and Gather Data\n",
    "\n",
    "\n",
    "##### Global Land Temperature\n",
    "The global land temperature dataset can be found at [Kaggle](https://www.kaggle.com/berkeleyearth/climate-change-earth-surface-temperature-data) and in this project was used the GlobalLandTemperaturesByCity.csv file. Some point about the data is important to be  highlighted.\n",
    "\n",
    "* The technicians collected the data using mercury thermometers, this method is sensitive by the time along the day that is measurements. \n",
    "\n",
    "* Many of the weather stations needed to be constructed in another area because the airports could disturb the measurements in 1940s.\n",
    "\n",
    "* In 1980s the instrumental measurements were changed to electronic thermometers because they have a cooling bias.\n",
    "\n",
    "Columns:\n",
    "\n",
    "* dt \n",
    "* AverageTemperature\n",
    "* AverageTemperatureUncertainty\n",
    "* City\n",
    "* Country\n",
    "* Latitude\n",
    "* Longitude\n",
    "\n",
    "##### National Footprint\n",
    "The second dataset can be found at [Kaggle](https://www.kaggle.com/kingburrito666/national-footprint-accounts) too, and is about National Footprint that measures the ecological resource use and capacity of nations. The file used was NFA_2017_Edition.csv\n",
    "\n",
    "Columns:\n",
    "* Country\n",
    "* Year\n",
    "* Country Code\n",
    "* Record-type\n",
    "* The Ecological Footprint of cropland demand\n",
    "* The Ecological Footprint of grazing land demand\n",
    "* The Ecological Footprint of forest land demand\n",
    "* The Ecological Footprint of fishing land demand\n",
    "* The Ecological Footprint of built-up land demand\n",
    "* The Ecological Footprint of carbon land demand\n",
    "* The total Ecological Footprint of demand(sum of all land types)\n",
    "* Data quality score"
   ]
  },
  {
   "cell_type": "code",
   "execution_count": null,
   "metadata": {
    "editable": true
   },
   "outputs": [],
   "source": [
    "import configparser\n",
    "import os\n",
    "\n",
    "config = configparser.ConfigParser()\n",
    "config.read('aws.cfg')\n",
    "os.environ['AWS_ACCESS_KEY_ID']=config['CREDENTIALS']['AWS_ACCESS_KEY_ID']\n",
    "os.environ['AWS_SECRET_ACCESS_KEY']=config['CREDENTIALS']['AWS_SECRET_ACCESS_KEY']\n",
    "AWS_ACCESS_KEY=config['CREDENTIALS']['AWS_ACCESS_KEY_ID']\n",
    "AWS_SECRET_KEY=config['CREDENTIALS']['AWS_SECRET_ACCESS_KEY']"
   ]
  },
  {
   "cell_type": "code",
   "execution_count": null,
   "metadata": {
    "editable": true
   },
   "outputs": [],
   "source": [
    "spark = SparkSession \\\n",
    "            .builder \\\n",
    "            .config(\"spark.jars.packages\", \"org.apache.hadoop:hadoop-aws:2.7.0\") \\\n",
    "            .config(\"spark.hadoop.fs.s3a.impl\",\"org.apache.hadoop.fs.s3a.S3AFileSystem\") \\\n",
    "            .config(\"spark.hadoop.fs.s3a.awsAccessKeyId\", os.environ['AWS_ACCESS_KEY_ID']) \\\n",
    "            .config(\"spark.hadoop.fs.s3a.awsSecretAccessKey\", os.environ['AWS_SECRET_ACCESS_KEY']) \\\n",
    "            .getOrCreate()"
   ]
  },
  {
   "cell_type": "markdown",
   "metadata": {
    "editable": true
   },
   "source": [
    "##### Import datasets"
   ]
  },
  {
   "cell_type": "code",
   "execution_count": 2,
   "metadata": {
    "editable": true
   },
   "outputs": [
    {
     "data": {
      "application/vnd.jupyter.widget-view+json": {
       "model_id": "360ccb72523d41aaabb2e6930d6765c6",
       "version_major": 2,
       "version_minor": 0
      },
      "text/plain": [
       "VBox()"
      ]
     },
     "metadata": {},
     "output_type": "display_data"
    },
    {
     "data": {
      "application/vnd.jupyter.widget-view+json": {
       "model_id": "",
       "version_major": 2,
       "version_minor": 0
      },
      "text/plain": [
       "FloatProgress(value=0.0, bar_style='info', description='Progress:', layout=Layout(height='25px', width='50%'),…"
      ]
     },
     "metadata": {},
     "output_type": "display_data"
    },
    {
     "name": "stdout",
     "output_type": "stream",
     "text": [
      "+----------+------------------+-----------------------------+-----+-------+--------+---------+\n",
      "|        dt|AverageTemperature|AverageTemperatureUncertainty| City|Country|Latitude|Longitude|\n",
      "+----------+------------------+-----------------------------+-----+-------+--------+---------+\n",
      "|1743-11-01|             6.068|           1.7369999999999999|Århus|Denmark|  57.05N|   10.33E|\n",
      "|1743-12-01|              null|                         null|Århus|Denmark|  57.05N|   10.33E|\n",
      "|1744-01-01|              null|                         null|Århus|Denmark|  57.05N|   10.33E|\n",
      "|1744-02-01|              null|                         null|Århus|Denmark|  57.05N|   10.33E|\n",
      "|1744-03-01|              null|                         null|Århus|Denmark|  57.05N|   10.33E|\n",
      "+----------+------------------+-----------------------------+-----+-------+--------+---------+\n",
      "only showing top 5 rows"
     ]
    }
   ],
   "source": [
    "global_temp_df = spark\\\n",
    "                .read\\\n",
    "                .option('header', 'true')\\\n",
    "                .csv('s3a://capstone-project1/GlobalLandTemperaturesByCity.csv')\n",
    "global_temp_df.show(5)"
   ]
  },
  {
   "cell_type": "code",
   "execution_count": 3,
   "metadata": {
    "editable": true
   },
   "outputs": [
    {
     "data": {
      "application/vnd.jupyter.widget-view+json": {
       "model_id": "66b37e9b035e47f481991e311018f1f4",
       "version_major": 2,
       "version_minor": 0
      },
      "text/plain": [
       "VBox()"
      ]
     },
     "metadata": {},
     "output_type": "display_data"
    },
    {
     "data": {
      "application/vnd.jupyter.widget-view+json": {
       "model_id": "",
       "version_major": 2,
       "version_minor": 0
      },
      "text/plain": [
       "FloatProgress(value=0.0, bar_style='info', description='Progress:', layout=Layout(height='25px', width='50%'),…"
      ]
     },
     "metadata": {},
     "output_type": "display_data"
    },
    {
     "name": "stdout",
     "output_type": "stream",
     "text": [
      "+-------+----+------------+------------+-----------------+-----------------+--------------------+-------------------+------------------+----------------+-----------------+------+\n",
      "|country|year|country_code|      record|        crop_land|     grazing_land|         forest_land|     fishing_ground|     built_up_land|          carbon|            total|QScore|\n",
      "+-------+----+------------+------------+-----------------+-----------------+--------------------+-------------------+------------------+----------------+-----------------+------+\n",
      "|Armenia|1992|           1|  AreaPerCap|0.140020292796057|0.199159298449051|  0.0969995651543702| 0.0368169299898536|0.0292578643431679|               0|  0.5022539507325|     5|\n",
      "|Armenia|1992|           1|   AreaTotHA|           483000|           687000|              334600|             127000|  100925.003051758|               0| 1732525.00305176|     5|\n",
      "|Armenia|1992|           1|BiocapPerCap|0.276531391460875| 0.13489158801002|  0.0838392733311525| 0.0137046000128235|0.0577824669298048|               0|0.566749319744676|     5|\n",
      "|Armenia|1992|           1|BiocapTotGHA|  953895.03484429| 465308.532840565|    289203.573355811|   47274.0177442345|  199320.619674361|               0| 1955001.77845926|     5|\n",
      "|Armenia|1992|           1|EFConsPerCap|0.477412481642491|0.175879801295801|1.25468439423212e...|0.00411314740728375|0.0577824669298048|1.09761669541147| 1.81280584737125|     5|\n",
      "+-------+----+------------+------------+-----------------+-----------------+--------------------+-------------------+------------------+----------------+-----------------+------+\n",
      "only showing top 5 rows"
     ]
    }
   ],
   "source": [
    "foot_print = spark\\\n",
    "            .read\\\n",
    "            .option('header', 'true')\\\n",
    "            .csv('s3a://capstone-project1/NFA2017Edition.csv')\n",
    "foot_print.show(5)"
   ]
  },
  {
   "cell_type": "markdown",
   "metadata": {
    "editable": true
   },
   "source": [
    "### Step 2: Explore and Assess the Data\n",
    "#### Explore the Data \n",
    "Identify data quality issues, like missing values, duplicate data, etc.\n",
    "\n",
    "1. global_temp_df dataset has 364130 null or Nan values in AverageTemperature and AverageTemperatureUncertainty columns\n",
    "2. foot_print dataset doesn't have null or nan values\n",
    "3. both dataset don't have duplicate values\n",
    "\n",
    "#### Cleaning Steps\n",
    "\n",
    "1. Rows that have null and NaN values in AverageTemperature and AverageTemperatureUncertainty columns was removed"
   ]
  },
  {
   "cell_type": "markdown",
   "metadata": {
    "editable": true
   },
   "source": [
    "##### Verify the number of rows"
   ]
  },
  {
   "cell_type": "code",
   "execution_count": 4,
   "metadata": {
    "editable": true
   },
   "outputs": [
    {
     "data": {
      "application/vnd.jupyter.widget-view+json": {
       "model_id": "3f3a6b5c54e84a4c94de929a7eb285aa",
       "version_major": 2,
       "version_minor": 0
      },
      "text/plain": [
       "VBox()"
      ]
     },
     "metadata": {},
     "output_type": "display_data"
    },
    {
     "data": {
      "application/vnd.jupyter.widget-view+json": {
       "model_id": "",
       "version_major": 2,
       "version_minor": 0
      },
      "text/plain": [
       "FloatProgress(value=0.0, bar_style='info', description='Progress:', layout=Layout(height='25px', width='50%'),…"
      ]
     },
     "metadata": {},
     "output_type": "display_data"
    },
    {
     "name": "stdout",
     "output_type": "stream",
     "text": [
      "8599212\n",
      "99456"
     ]
    }
   ],
   "source": [
    "num_rows_temp = global_temp_df.count()\n",
    "num_rows_foot = foot_print.count()\n",
    "\n",
    "print(num_rows_temp)\n",
    "print(num_rows_foot)"
   ]
  },
  {
   "cell_type": "markdown",
   "metadata": {
    "editable": true
   },
   "source": [
    "##### Verify all many null or Nan values exists in the columns"
   ]
  },
  {
   "cell_type": "code",
   "execution_count": 5,
   "metadata": {
    "editable": true
   },
   "outputs": [
    {
     "data": {
      "application/vnd.jupyter.widget-view+json": {
       "model_id": "64492376dc0d45828455a70ff87e3b2e",
       "version_major": 2,
       "version_minor": 0
      },
      "text/plain": [
       "VBox()"
      ]
     },
     "metadata": {},
     "output_type": "display_data"
    },
    {
     "data": {
      "application/vnd.jupyter.widget-view+json": {
       "model_id": "",
       "version_major": 2,
       "version_minor": 0
      },
      "text/plain": [
       "FloatProgress(value=0.0, bar_style='info', description='Progress:', layout=Layout(height='25px', width='50%'),…"
      ]
     },
     "metadata": {},
     "output_type": "display_data"
    },
    {
     "name": "stdout",
     "output_type": "stream",
     "text": [
      "+---+------------------+-----------------------------+----+-------+--------+---------+\n",
      "| dt|AverageTemperature|AverageTemperatureUncertainty|City|Country|Latitude|Longitude|\n",
      "+---+------------------+-----------------------------+----+-------+--------+---------+\n",
      "|  0|            364130|                       364130|   0|      0|       0|        0|\n",
      "+---+------------------+-----------------------------+----+-------+--------+---------+"
     ]
    }
   ],
   "source": [
    "from pyspark.sql.functions import isnan, when, count, col\n",
    "global_temp_df.select([count(when(isnan(c) | col(c).isNull(), c)).alias(c) for c in global_temp_df.columns]).show()"
   ]
  },
  {
   "cell_type": "code",
   "execution_count": 6,
   "metadata": {
    "editable": true
   },
   "outputs": [
    {
     "data": {
      "application/vnd.jupyter.widget-view+json": {
       "model_id": "5284ee37800942b993953c15821a6499",
       "version_major": 2,
       "version_minor": 0
      },
      "text/plain": [
       "VBox()"
      ]
     },
     "metadata": {},
     "output_type": "display_data"
    },
    {
     "data": {
      "application/vnd.jupyter.widget-view+json": {
       "model_id": "",
       "version_major": 2,
       "version_minor": 0
      },
      "text/plain": [
       "FloatProgress(value=0.0, bar_style='info', description='Progress:', layout=Layout(height='25px', width='50%'),…"
      ]
     },
     "metadata": {},
     "output_type": "display_data"
    },
    {
     "name": "stdout",
     "output_type": "stream",
     "text": [
      "+-------+----+------------+------+---------+------------+-----------+--------------+-------------+------+-----+------+\n",
      "|country|year|country_code|record|crop_land|grazing_land|forest_land|fishing_ground|built_up_land|carbon|total|QScore|\n",
      "+-------+----+------------+------+---------+------------+-----------+--------------+-------------+------+-----+------+\n",
      "|      0|   0|           0|     0|        0|           0|          0|             0|            0|     0|    0|     0|\n",
      "+-------+----+------------+------+---------+------------+-----------+--------------+-------------+------+-----+------+"
     ]
    }
   ],
   "source": [
    "foot_print.select([count(when(isnan(c) | col(c).isNull(), c)).alias(c) for c in foot_print.columns]).show()"
   ]
  },
  {
   "cell_type": "markdown",
   "metadata": {
    "editable": true
   },
   "source": [
    "##### See duplicate values\n",
    "\n",
    "The results below show that there aren't duplicate values"
   ]
  },
  {
   "cell_type": "code",
   "execution_count": 7,
   "metadata": {
    "editable": true
   },
   "outputs": [
    {
     "data": {
      "application/vnd.jupyter.widget-view+json": {
       "model_id": "2c45a7c21c5b437e8d393a2655345743",
       "version_major": 2,
       "version_minor": 0
      },
      "text/plain": [
       "VBox()"
      ]
     },
     "metadata": {},
     "output_type": "display_data"
    },
    {
     "data": {
      "application/vnd.jupyter.widget-view+json": {
       "model_id": "",
       "version_major": 2,
       "version_minor": 0
      },
      "text/plain": [
       "FloatProgress(value=0.0, bar_style='info', description='Progress:', layout=Layout(height='25px', width='50%'),…"
      ]
     },
     "metadata": {},
     "output_type": "display_data"
    },
    {
     "name": "stdout",
     "output_type": "stream",
     "text": [
      "+----------+\n",
      "|sum(count)|\n",
      "+----------+\n",
      "|      null|\n",
      "+----------+"
     ]
    }
   ],
   "source": [
    "import pyspark.sql.functions as f\n",
    "global_temp_df.groupBy(global_temp_df.columns)\\\n",
    "    .count()\\\n",
    "    .where(f.col('count') > 1)\\\n",
    "    .select(f.sum('count'))\\\n",
    "    .show()"
   ]
  },
  {
   "cell_type": "code",
   "execution_count": 8,
   "metadata": {
    "editable": true
   },
   "outputs": [
    {
     "data": {
      "application/vnd.jupyter.widget-view+json": {
       "model_id": "39a7fe85c76841f9bc1a31a2c2916352",
       "version_major": 2,
       "version_minor": 0
      },
      "text/plain": [
       "VBox()"
      ]
     },
     "metadata": {},
     "output_type": "display_data"
    },
    {
     "data": {
      "application/vnd.jupyter.widget-view+json": {
       "model_id": "",
       "version_major": 2,
       "version_minor": 0
      },
      "text/plain": [
       "FloatProgress(value=0.0, bar_style='info', description='Progress:', layout=Layout(height='25px', width='50%'),…"
      ]
     },
     "metadata": {},
     "output_type": "display_data"
    },
    {
     "name": "stdout",
     "output_type": "stream",
     "text": [
      "+----------+\n",
      "|sum(count)|\n",
      "+----------+\n",
      "|      null|\n",
      "+----------+"
     ]
    }
   ],
   "source": [
    "foot_print.groupBy(foot_print.columns)\\\n",
    "    .count()\\\n",
    "    .where(f.col('count') > 1)\\\n",
    "    .select(f.sum('count'))\\\n",
    "    .show()"
   ]
  },
  {
   "cell_type": "markdown",
   "metadata": {
    "editable": true
   },
   "source": [
    "##### Removing Na values from global_temp_df"
   ]
  },
  {
   "cell_type": "code",
   "execution_count": 9,
   "metadata": {
    "editable": true
   },
   "outputs": [
    {
     "data": {
      "application/vnd.jupyter.widget-view+json": {
       "model_id": "8ed5d60864964366a472dae5d7a23635",
       "version_major": 2,
       "version_minor": 0
      },
      "text/plain": [
       "VBox()"
      ]
     },
     "metadata": {},
     "output_type": "display_data"
    },
    {
     "data": {
      "application/vnd.jupyter.widget-view+json": {
       "model_id": "",
       "version_major": 2,
       "version_minor": 0
      },
      "text/plain": [
       "FloatProgress(value=0.0, bar_style='info', description='Progress:', layout=Layout(height='25px', width='50%'),…"
      ]
     },
     "metadata": {},
     "output_type": "display_data"
    }
   ],
   "source": [
    "global_temp_df = global_temp_df.dropna('any')"
   ]
  },
  {
   "cell_type": "markdown",
   "metadata": {
    "editable": true
   },
   "source": [
    "### Step 3: Define the Data Model\n",
    "#### 3.1 Conceptual Data Model\n",
    "\n",
    "The data model to this project is the star schema, it is a great model to query perfomance because with a little number of joins all data is structured to be analyzed. Futhermore, this data model is easy to understand how all data is distributed in tables.\n",
    "\n",
    "#### 3.2 Mapping Out Data Pipelines\n",
    "List the steps necessary to pipeline the data into the chosen data modeled\n",
    "\n",
    "\n",
    "1. Extract year, month and day from dt column in global_temp_df\n",
    "2. Inner Join foot_print and global_temp_df using year and country as composite key to create globaltemp_footprint_df with uniques id column\n",
    "3. Create location_dm dimension table using Country and City columns and create location_id\n",
    "4. Insert location_id into globaltemp_footprint_df and drop Country and City columns\n",
    "5. Create record_dm with record_id column \n",
    "6. Insert record_id into globaltemp_footprint_df and drop record column\n",
    "7. Create geopoint_dm with Latitude and Longitude column from globaltemp_footprint_df and add a geopoint_id column\n",
    "8. Add geopoint_id column to globaltemp_footprint_df and drop Latitude and Longitude columns\n",
    "9. Create time_dm table with ts, year, month and day from globaltemp_footprint_df\n",
    "10. Drop year, month, day columns from globaltemp_footprint_df\n",
    "11. Load globaltemp_footprint_df, location_dm, record_dm, geopoint_dm, time_dm to S3 bucket (s3://capstone-project1/)"
   ]
  },
  {
   "cell_type": "markdown",
   "metadata": {
    "editable": true
   },
   "source": [
    "### Step 4: Run Pipelines to Model the Data \n",
    "#### 4.1 Create the data model\n",
    "Build the data pipelines to create the data model."
   ]
  },
  {
   "cell_type": "markdown",
   "metadata": {
    "editable": true
   },
   "source": [
    "#### Extract year, month and day from dt column in global_temp_df"
   ]
  },
  {
   "cell_type": "code",
   "execution_count": 10,
   "metadata": {
    "editable": true
   },
   "outputs": [
    {
     "data": {
      "application/vnd.jupyter.widget-view+json": {
       "model_id": "8caf5cfcd3a041cfaa94a788e434fa76",
       "version_major": 2,
       "version_minor": 0
      },
      "text/plain": [
       "VBox()"
      ]
     },
     "metadata": {},
     "output_type": "display_data"
    },
    {
     "data": {
      "application/vnd.jupyter.widget-view+json": {
       "model_id": "",
       "version_major": 2,
       "version_minor": 0
      },
      "text/plain": [
       "FloatProgress(value=0.0, bar_style='info', description='Progress:', layout=Layout(height='25px', width='50%'),…"
      ]
     },
     "metadata": {},
     "output_type": "display_data"
    }
   ],
   "source": [
    "global_temp_df = global_temp_df.select(global_temp_df.columns)\\\n",
    "                                .withColumn('year', year(global_temp_df.dt))\\\n",
    "                                .withColumn('month', month(global_temp_df.dt))\\\n",
    "                                .withColumn('day', dayofmonth(global_temp_df.dt))"
   ]
  },
  {
   "cell_type": "markdown",
   "metadata": {
    "editable": true
   },
   "source": [
    "#### Inner Join foot_print and global_temp_df using year and country as composite key to create globaltemp_footprint_df with uniques id column"
   ]
  },
  {
   "cell_type": "code",
   "execution_count": 11,
   "metadata": {
    "editable": true
   },
   "outputs": [
    {
     "data": {
      "application/vnd.jupyter.widget-view+json": {
       "model_id": "b0f8c1ca25524f68aa50c8180c9568b8",
       "version_major": 2,
       "version_minor": 0
      },
      "text/plain": [
       "VBox()"
      ]
     },
     "metadata": {},
     "output_type": "display_data"
    },
    {
     "data": {
      "application/vnd.jupyter.widget-view+json": {
       "model_id": "",
       "version_major": 2,
       "version_minor": 0
      },
      "text/plain": [
       "FloatProgress(value=0.0, bar_style='info', description='Progress:', layout=Layout(height='25px', width='50%'),…"
      ]
     },
     "metadata": {},
     "output_type": "display_data"
    },
    {
     "name": "stdout",
     "output_type": "stream",
     "text": [
      "+----------+------------------+-----------------------------+-------------+--------+--------+---------+----+-----+---+------------+-----------------+------------------+------------------+------------------+------------------+-----------------+-----------------+------+-----------------+\n",
      "|        dt|AverageTemperature|AverageTemperatureUncertainty|         City| Country|Latitude|Longitude|year|month|day|      record|        crop_land|      grazing_land|       forest_land|    fishing_ground|     built_up_land|           carbon|            total|QScore|globaltempfoot_id|\n",
      "+----------+------------------+-----------------------------+-------------+--------+--------+---------+----+-----+---+------------+-----------------+------------------+------------------+------------------+------------------+-----------------+-----------------+------+-----------------+\n",
      "|1963-01-01|            13.399|                        0.595|Ahmadpur East|Pakistan|  29.74N|   72.00E|1963|    1|  1|  AreaPerCap|0.639166785655552| 0.103492031356145| 0.027808241463719| 0.150193845425919|0.0233488382049242|                0|0.944009742106259|     6|                0|\n",
      "|1963-01-01|            13.399|                        0.595|Ahmadpur East|Pakistan|  29.74N|   72.00E|1963|    1|  1|   AreaTotHA|         30880000|           5000000|  1343496.74556213|           7256300|  1128050.04882813|                0| 45607846.7943903|     6|                1|\n",
      "|1963-01-01|            13.399|                        0.595|Ahmadpur East|Pakistan|  29.74N|   72.00E|1963|    1|  1|BiocapPerCap|0.279274041759626|0.0151633032990056|0.0304005471729795| 0.139605004731662|0.0102019137449279|                0|  0.4746448107082|     6|                2|\n",
      "|1963-01-01|            13.399|                        0.595|Ahmadpur East|Pakistan|  29.74N|   72.00E|1963|    1|  1|BiocapTotGHA| 13492538.4157629|  732583.132261867|  1468738.54801258|  6744722.41496748|  492884.022626837|                0| 22931466.5336317|     6|                3|\n",
      "|1963-01-01|            13.399|                        0.595|Ahmadpur East|Pakistan|  29.74N|   72.00E|1963|    1|  1|EFConsPerCap|0.276413029702687|0.0141229596506648|  0.11489676208602|0.0129024437677349|0.0102019137449279|0.108647056964597|0.537184165916631|     6|                4|\n",
      "+----------+------------------+-----------------------------+-------------+--------+--------+---------+----+-----+---+------------+-----------------+------------------+------------------+------------------+------------------+-----------------+-----------------+------+-----------------+\n",
      "only showing top 5 rows"
     ]
    }
   ],
   "source": [
    "cond = [global_temp_df.year == foot_print.year, global_temp_df.Country == foot_print.country]\n",
    "globaltemp_footprint_df = global_temp_df.join(foot_print, cond, 'inner')\\\n",
    "                                    .withColumn('globaltempfoot_id', monotonically_increasing_id())\\\n",
    "                                    .drop(foot_print.year)\\\n",
    "                                    .drop(foot_print.country)\\\n",
    "                                    .drop(foot_print.country_code)\n",
    "globaltemp_footprint_df.show(5)"
   ]
  },
  {
   "cell_type": "markdown",
   "metadata": {
    "editable": true
   },
   "source": [
    "#### Create location_dm dimension table using Country and City columns and create location_id"
   ]
  },
  {
   "cell_type": "code",
   "execution_count": 12,
   "metadata": {
    "editable": true
   },
   "outputs": [
    {
     "data": {
      "application/vnd.jupyter.widget-view+json": {
       "model_id": "32f038344cf84905983073e17a7c03e5",
       "version_major": 2,
       "version_minor": 0
      },
      "text/plain": [
       "VBox()"
      ]
     },
     "metadata": {},
     "output_type": "display_data"
    },
    {
     "data": {
      "application/vnd.jupyter.widget-view+json": {
       "model_id": "",
       "version_major": 2,
       "version_minor": 0
      },
      "text/plain": [
       "FloatProgress(value=0.0, bar_style='info', description='Progress:', layout=Layout(height='25px', width='50%'),…"
      ]
     },
     "metadata": {},
     "output_type": "display_data"
    },
    {
     "name": "stdout",
     "output_type": "stream",
     "text": [
      "+-----------+------------+------+\n",
      "|location_id|     Country|  City|\n",
      "+-----------+------------+------+\n",
      "|          0|Saudi Arabia|  Abha|\n",
      "|          1|       China| Beian|\n",
      "|          2|       China|Bozhou|\n",
      "|          3|    Cameroon|Garoua|\n",
      "|          4|       India|Jhansi|\n",
      "+-----------+------------+------+\n",
      "only showing top 5 rows"
     ]
    }
   ],
   "source": [
    "location_dm = globaltemp_footprint_df.groupBy(globaltemp_footprint_df.Country, globaltemp_footprint_df.City)\\\n",
    "                                .count()\\\n",
    "                                .withColumn('location_id', monotonically_increasing_id())\\\n",
    "                                .select(['location_id', 'Country','City'])\n",
    "location_dm.show(5)"
   ]
  },
  {
   "cell_type": "markdown",
   "metadata": {
    "editable": true
   },
   "source": [
    "#### Insert location_id into globaltemp_footprint_df and drop Country and City columns"
   ]
  },
  {
   "cell_type": "code",
   "execution_count": 13,
   "metadata": {
    "editable": true
   },
   "outputs": [
    {
     "data": {
      "application/vnd.jupyter.widget-view+json": {
       "model_id": "835e5841720742a8a5e267a000dcb46c",
       "version_major": 2,
       "version_minor": 0
      },
      "text/plain": [
       "VBox()"
      ]
     },
     "metadata": {},
     "output_type": "display_data"
    },
    {
     "data": {
      "application/vnd.jupyter.widget-view+json": {
       "model_id": "",
       "version_major": 2,
       "version_minor": 0
      },
      "text/plain": [
       "FloatProgress(value=0.0, bar_style='info', description='Progress:', layout=Layout(height='25px', width='50%'),…"
      ]
     },
     "metadata": {},
     "output_type": "display_data"
    },
    {
     "name": "stdout",
     "output_type": "stream",
     "text": [
      "+----------+------------------+-----------------------------+--------+---------+----+-----+---+------------+-----------------+----------------+----------------+-----------------+------------------+----------------+----------------+------+-----------------+-----------+\n",
      "|        dt|AverageTemperature|AverageTemperatureUncertainty|Latitude|Longitude|year|month|day|      record|        crop_land|    grazing_land|     forest_land|   fishing_ground|     built_up_land|          carbon|           total|QScore|globaltempfoot_id|location_id|\n",
      "+----------+------------------+-----------------------------+--------+---------+----+-----+---+------------+-----------------+----------------+----------------+-----------------+------------------+----------------+----------------+------+-----------------+-----------+\n",
      "|1987-01-01|            26.346|                        0.266|  28.13S|   55.45W|1987|    1|  1|  AreaPerCap|0.781407768567306|3.30264247643294|1.10928412710825| 2.64820200150033| 0.033785453366409|               0|7.87532182697523|     6|      77309437536|         12|\n",
      "|1987-01-01|            26.346|                        0.266|  28.13S|   55.45W|1987|    1|  1|   AreaTotHA| 24478770.4620237|103460229.537976|34749989.2078567|         82958900|  1058380.00488281|               0| 246706269.21274|     6|      77309437537|         12|\n",
      "|1987-01-01|            26.346|                        0.266|  28.13S|   55.45W|1987|    1|  1|BiocapPerCap| 2.00859147395408|2.26857961944473|1.07322381730926| 2.22644927548587|0.0868447644177692|               0|7.66368895061172|     6|      77309437538|         12|\n",
      "|1987-01-01|            26.346|                        0.266|  28.13S|   55.45W|1987|    1|  1|BiocapTotGHA| 62922140.8088225|71066659.4485354|33620345.9129386| 69746863.2285082|  2720542.51253325|               0|240076551.911338|     6|      77309437539|         12|\n",
      "|1987-01-01|            26.346|                        0.266|  28.13S|   55.45W|1987|    1|  1|EFConsPerCap| 1.25108095142354|1.07721830795875| 0.1924885473768|0.126660010866466|0.0868447644177692|1.02300062660396|3.75729320864728|     6|      77309437540|         12|\n",
      "+----------+------------------+-----------------------------+--------+---------+----+-----+---+------------+-----------------+----------------+----------------+-----------------+------------------+----------------+----------------+------+-----------------+-----------+\n",
      "only showing top 5 rows"
     ]
    }
   ],
   "source": [
    "cond=[globaltemp_footprint_df.Country == location_dm.Country, globaltemp_footprint_df.City == location_dm.City]\n",
    "globaltemp_footprint_df = globaltemp_footprint_df.join(location_dm, cond, 'inner')\\\n",
    "                            .drop(globaltemp_footprint_df.Country)\\\n",
    "                            .drop(globaltemp_footprint_df.City)\\\n",
    "                            .drop('Country')\\\n",
    "                            .drop('City')\n",
    "globaltemp_footprint_df.show(5)"
   ]
  },
  {
   "cell_type": "markdown",
   "metadata": {
    "editable": true
   },
   "source": [
    "#### Create record_dm with record_id column"
   ]
  },
  {
   "cell_type": "code",
   "execution_count": 14,
   "metadata": {
    "editable": true
   },
   "outputs": [
    {
     "data": {
      "application/vnd.jupyter.widget-view+json": {
       "model_id": "f2ed168539124811924cc11314cf8466",
       "version_major": 2,
       "version_minor": 0
      },
      "text/plain": [
       "VBox()"
      ]
     },
     "metadata": {},
     "output_type": "display_data"
    },
    {
     "data": {
      "application/vnd.jupyter.widget-view+json": {
       "model_id": "",
       "version_major": 2,
       "version_minor": 0
      },
      "text/plain": [
       "FloatProgress(value=0.0, bar_style='info', description='Progress:', layout=Layout(height='25px', width='50%'),…"
      ]
     },
     "metadata": {},
     "output_type": "display_data"
    },
    {
     "name": "stdout",
     "output_type": "stream",
     "text": [
      "+------------+---------------+\n",
      "|   record_id|         record|\n",
      "+------------+---------------+\n",
      "| 42949672960|   EFConsTotGHA|\n",
      "|154618822656|   EFConsPerCap|\n",
      "|249108103168|      AreaTotHA|\n",
      "|352187318272|EFImportsTotGHA|\n",
      "|455266533376|   EFProdPerCap|\n",
      "+------------+---------------+\n",
      "only showing top 5 rows"
     ]
    }
   ],
   "source": [
    "record_dm = globaltemp_footprint_df.groupBy(globaltemp_footprint_df.record)\\\n",
    "                    .count()\\\n",
    "                    .withColumn('record_id', monotonically_increasing_id())\\\n",
    "                    .select(['record_id', 'record'])\n",
    "record_dm.show(5)"
   ]
  },
  {
   "cell_type": "markdown",
   "metadata": {
    "editable": true
   },
   "source": [
    "#### Insert record_id into globaltemp_footprint_df and drop record column"
   ]
  },
  {
   "cell_type": "code",
   "execution_count": 15,
   "metadata": {
    "editable": true
   },
   "outputs": [
    {
     "data": {
      "application/vnd.jupyter.widget-view+json": {
       "model_id": "a871e1bb07cb4593b4ec3faefd11512b",
       "version_major": 2,
       "version_minor": 0
      },
      "text/plain": [
       "VBox()"
      ]
     },
     "metadata": {},
     "output_type": "display_data"
    },
    {
     "data": {
      "application/vnd.jupyter.widget-view+json": {
       "model_id": "",
       "version_major": 2,
       "version_minor": 0
      },
      "text/plain": [
       "FloatProgress(value=0.0, bar_style='info', description='Progress:', layout=Layout(height='25px', width='50%'),…"
      ]
     },
     "metadata": {},
     "output_type": "display_data"
    },
    {
     "name": "stdout",
     "output_type": "stream",
     "text": [
      "+----------+------------------+-----------------------------+--------+---------+----+-----+---+----------------+----------------+----------------+----------------+----------------+----------------+----------------+------+-----------------+-----------+-----------+\n",
      "|        dt|AverageTemperature|AverageTemperatureUncertainty|Latitude|Longitude|year|month|day|       crop_land|    grazing_land|     forest_land|  fishing_ground|   built_up_land|          carbon|           total|QScore|globaltempfoot_id|location_id|  record_id|\n",
      "+----------+------------------+-----------------------------+--------+---------+----+-----+---+----------------+----------------+----------------+----------------+----------------+----------------+----------------+------+-----------------+-----------+-----------+\n",
      "|1987-01-01|            26.346|                        0.266|  28.13S|   55.45W|1987|    1|  1|39191987.4247696|33745479.3242697|6029992.47939934|3967814.83040835|2720542.51253325|32047029.1293088|117702845.700689|     6|      77309437541|         12|42949672960|\n",
      "|1987-02-01|            24.936|                         0.39|  28.13S|   55.45W|1987|    2|  1|39191987.4247696|33745479.3242697|6029992.47939934|3967814.83040835|2720542.51253325|32047029.1293088|117702845.700689|     6|      77309437553|         12|42949672960|\n",
      "|1987-03-01|            24.656|                        0.191|  28.13S|   55.45W|1987|    3|  1|39191987.4247696|33745479.3242697|6029992.47939934|3967814.83040835|2720542.51253325|32047029.1293088|117702845.700689|     6|      77309437565|         12|42949672960|\n",
      "|1987-04-01|            21.184|          0.20800000000000002|  28.13S|   55.45W|1987|    4|  1|39191987.4247696|33745479.3242697|6029992.47939934|3967814.83040835|2720542.51253325|32047029.1293088|117702845.700689|     6|      77309437577|         12|42949672960|\n",
      "|1987-05-01|            14.491|                        0.248|  28.13S|   55.45W|1987|    5|  1|39191987.4247696|33745479.3242697|6029992.47939934|3967814.83040835|2720542.51253325|32047029.1293088|117702845.700689|     6|      77309437589|         12|42949672960|\n",
      "+----------+------------------+-----------------------------+--------+---------+----+-----+---+----------------+----------------+----------------+----------------+----------------+----------------+----------------+------+-----------------+-----------+-----------+\n",
      "only showing top 5 rows"
     ]
    }
   ],
   "source": [
    "globaltemp_footprint_df = globaltemp_footprint_df.join(record_dm, globaltemp_footprint_df.record == record_dm.record, 'inner')\\\n",
    "                        .drop(record_dm.record)\\\n",
    "                        .drop('record')\n",
    "globaltemp_footprint_df.show(5)"
   ]
  },
  {
   "cell_type": "markdown",
   "metadata": {
    "editable": true
   },
   "source": [
    "#### Create geopoint_dm with Latitude and Longitude column from globaltemp_footprint_df and add a geopoint_id column"
   ]
  },
  {
   "cell_type": "code",
   "execution_count": 16,
   "metadata": {
    "editable": true
   },
   "outputs": [
    {
     "data": {
      "application/vnd.jupyter.widget-view+json": {
       "model_id": "f76e78c3f38b437e9fd65efd7e4b6a99",
       "version_major": 2,
       "version_minor": 0
      },
      "text/plain": [
       "VBox()"
      ]
     },
     "metadata": {},
     "output_type": "display_data"
    },
    {
     "data": {
      "application/vnd.jupyter.widget-view+json": {
       "model_id": "",
       "version_major": 2,
       "version_minor": 0
      },
      "text/plain": [
       "FloatProgress(value=0.0, bar_style='info', description='Progress:', layout=Layout(height='25px', width='50%'),…"
      ]
     },
     "metadata": {},
     "output_type": "display_data"
    },
    {
     "name": "stdout",
     "output_type": "stream",
     "text": [
      "+-----------+--------+---------+\n",
      "|geopoint_id|Latitude|Longitude|\n",
      "+-----------+--------+---------+\n",
      "|          0|   4.02N|   74.73W|\n",
      "|          1|  31.35N|  111.20E|\n",
      "| 8589934592|  45.81N|   10.38E|\n",
      "| 8589934593|  45.81N|   31.15E|\n",
      "| 8589934594|   0.80S|   49.02W|\n",
      "+-----------+--------+---------+\n",
      "only showing top 5 rows"
     ]
    }
   ],
   "source": [
    "geopoint_dm = globaltemp_footprint_df.groupBy(globaltemp_footprint_df.Latitude, globaltemp_footprint_df.Longitude)\\\n",
    "                    .count()\\\n",
    "                    .withColumn('geopoint_id', monotonically_increasing_id())\\\n",
    "                    .select(['geopoint_id','Latitude', 'Longitude'])\n",
    "geopoint_dm.show(5)"
   ]
  },
  {
   "cell_type": "markdown",
   "metadata": {
    "editable": true
   },
   "source": [
    "#### Add geopoint_id column to globaltemp_footprint_df and drop Latitude and Longitude columns"
   ]
  },
  {
   "cell_type": "code",
   "execution_count": 17,
   "metadata": {
    "editable": true
   },
   "outputs": [
    {
     "data": {
      "application/vnd.jupyter.widget-view+json": {
       "model_id": "b26f6bb37c3a467597b56645201b51b1",
       "version_major": 2,
       "version_minor": 0
      },
      "text/plain": [
       "VBox()"
      ]
     },
     "metadata": {},
     "output_type": "display_data"
    },
    {
     "data": {
      "application/vnd.jupyter.widget-view+json": {
       "model_id": "",
       "version_major": 2,
       "version_minor": 0
      },
      "text/plain": [
       "FloatProgress(value=0.0, bar_style='info', description='Progress:', layout=Layout(height='25px', width='50%'),…"
      ]
     },
     "metadata": {},
     "output_type": "display_data"
    },
    {
     "name": "stdout",
     "output_type": "stream",
     "text": [
      "+----------+------------------+-----------------------------+----+-----+---+----------------+----------------+----------------+----------------+----------------+----------------+----------------+------+-----------------+-------------+-----------+-----------+\n",
      "|        dt|AverageTemperature|AverageTemperatureUncertainty|year|month|day|       crop_land|    grazing_land|     forest_land|  fishing_ground|   built_up_land|          carbon|           total|QScore|globaltempfoot_id|  location_id|  record_id|geopoint_id|\n",
      "+----------+------------------+-----------------------------+----+-----+---+----------------+----------------+----------------+----------------+----------------+----------------+----------------+------+-----------------+-------------+-----------+-----------+\n",
      "|1992-01-01|3.0980000000000003|                        0.273|1992|    1|  1|442904034.177821|157384300.972959|194720630.346759|58982269.8013754|89233318.0098797|940698224.176475|1883922777.48527|     6|      25769919989|1331439861772|42949672960|          1|\n",
      "|1992-02-01|             5.521|                         0.29|1992|    2|  1|442904034.177821|157384300.972959|194720630.346759|58982269.8013754|89233318.0098797|940698224.176475|1883922777.48527|     6|      25769920001|1331439861772|42949672960|          1|\n",
      "|1992-03-01| 6.489000000000001|                        0.239|1992|    3|  1|442904034.177821|157384300.972959|194720630.346759|58982269.8013754|89233318.0098797|940698224.176475|1883922777.48527|     6|      25769920013|1331439861772|42949672960|          1|\n",
      "|1992-04-01|            16.279|          0.33299999999999996|1992|    4|  1|442904034.177821|157384300.972959|194720630.346759|58982269.8013754|89233318.0098797|940698224.176475|1883922777.48527|     6|      25769920025|1331439861772|42949672960|          1|\n",
      "|1992-05-01|             20.04|                        0.134|1992|    5|  1|442904034.177821|157384300.972959|194720630.346759|58982269.8013754|89233318.0098797|940698224.176475|1883922777.48527|     6|      25769920037|1331439861772|42949672960|          1|\n",
      "+----------+------------------+-----------------------------+----+-----+---+----------------+----------------+----------------+----------------+----------------+----------------+----------------+------+-----------------+-------------+-----------+-----------+\n",
      "only showing top 5 rows"
     ]
    }
   ],
   "source": [
    "cond=[globaltemp_footprint_df.Latitude == geopoint_dm.Latitude, globaltemp_footprint_df.Longitude == geopoint_dm.Longitude]\n",
    "globaltemp_footprint_df = globaltemp_footprint_df.join(geopoint_dm, cond, 'inner')\\\n",
    "                        .drop(geopoint_dm.Longitude)\\\n",
    "                        .drop(geopoint_dm.Latitude)\\\n",
    "                        .drop('Longitude')\\\n",
    "                        .drop('Latitude')\n",
    "\n",
    "globaltemp_footprint_df.show(5)"
   ]
  },
  {
   "cell_type": "markdown",
   "metadata": {
    "editable": true
   },
   "source": [
    "#### Create time_dm table with ts, year, month and day from globaltemp_footprint_df"
   ]
  },
  {
   "cell_type": "code",
   "execution_count": 18,
   "metadata": {
    "editable": true
   },
   "outputs": [
    {
     "data": {
      "application/vnd.jupyter.widget-view+json": {
       "model_id": "4ce4c7634ba8407da000abbd992abeeb",
       "version_major": 2,
       "version_minor": 0
      },
      "text/plain": [
       "VBox()"
      ]
     },
     "metadata": {},
     "output_type": "display_data"
    },
    {
     "data": {
      "application/vnd.jupyter.widget-view+json": {
       "model_id": "",
       "version_major": 2,
       "version_minor": 0
      },
      "text/plain": [
       "FloatProgress(value=0.0, bar_style='info', description='Progress:', layout=Layout(height='25px', width='50%'),…"
      ]
     },
     "metadata": {},
     "output_type": "display_data"
    },
    {
     "name": "stdout",
     "output_type": "stream",
     "text": [
      "+----------+----+-----+---+\n",
      "|        dt|year|month|day|\n",
      "+----------+----+-----+---+\n",
      "|1991-10-01|1991|   10|  1|\n",
      "|2000-11-01|2000|   11|  1|\n",
      "|1963-08-01|1963|    8|  1|\n",
      "|1973-07-01|1973|    7|  1|\n",
      "|2010-11-01|2010|   11|  1|\n",
      "+----------+----+-----+---+\n",
      "only showing top 5 rows"
     ]
    }
   ],
   "source": [
    "time_dm = globaltemp_footprint_df.groupBy(globaltemp_footprint_df.dt,\\\n",
    "                                         globaltemp_footprint_df.year,\\\n",
    "                                         globaltemp_footprint_df.month,\\\n",
    "                                         globaltemp_footprint_df.day)\\\n",
    "                    .count()\\\n",
    "                    .select(['dt','year', 'month','day'])\n",
    "\n",
    "time_dm.show(5)"
   ]
  },
  {
   "cell_type": "markdown",
   "metadata": {
    "editable": true
   },
   "source": [
    "#### Drop year, month, day columns from globaltemp_footprint_df"
   ]
  },
  {
   "cell_type": "code",
   "execution_count": 19,
   "metadata": {
    "editable": true
   },
   "outputs": [
    {
     "data": {
      "application/vnd.jupyter.widget-view+json": {
       "model_id": "9c3245d653a3471783bd5d71d21d7a53",
       "version_major": 2,
       "version_minor": 0
      },
      "text/plain": [
       "VBox()"
      ]
     },
     "metadata": {},
     "output_type": "display_data"
    },
    {
     "data": {
      "application/vnd.jupyter.widget-view+json": {
       "model_id": "",
       "version_major": 2,
       "version_minor": 0
      },
      "text/plain": [
       "FloatProgress(value=0.0, bar_style='info', description='Progress:', layout=Layout(height='25px', width='50%'),…"
      ]
     },
     "metadata": {},
     "output_type": "display_data"
    }
   ],
   "source": [
    "globaltemp_footprint_df=globaltemp_footprint_df.drop('year')\\\n",
    "                                                .drop('month')\\\n",
    "                                                .drop('day')"
   ]
  },
  {
   "cell_type": "code",
   "execution_count": 20,
   "metadata": {},
   "outputs": [
    {
     "data": {
      "application/vnd.jupyter.widget-view+json": {
       "model_id": "3d26c55ca6a94bfca2182ff44c807dc2",
       "version_major": 2,
       "version_minor": 0
      },
      "text/plain": [
       "VBox()"
      ]
     },
     "metadata": {},
     "output_type": "display_data"
    },
    {
     "data": {
      "application/vnd.jupyter.widget-view+json": {
       "model_id": "",
       "version_major": 2,
       "version_minor": 0
      },
      "text/plain": [
       "FloatProgress(value=0.0, bar_style='info', description='Progress:', layout=Layout(height='25px', width='50%'),…"
      ]
     },
     "metadata": {},
     "output_type": "display_data"
    },
    {
     "name": "stdout",
     "output_type": "stream",
     "text": [
      "+----------+------------------+-----------------------------+----------------+----------------+----------------+----------------+----------------+----------------+----------------+------+-----------------+-------------+-----------+-----------+\n",
      "|        dt|AverageTemperature|AverageTemperatureUncertainty|       crop_land|    grazing_land|     forest_land|  fishing_ground|   built_up_land|          carbon|           total|QScore|globaltempfoot_id|  location_id|  record_id|geopoint_id|\n",
      "+----------+------------------+-----------------------------+----------------+----------------+----------------+----------------+----------------+----------------+----------------+------+-----------------+-------------+-----------+-----------+\n",
      "|1992-01-01|3.0980000000000003|                        0.273|442904034.177821|157384300.972959|194720630.346759|58982269.8013754|89233318.0098797|940698224.176475|1883922777.48527|     6|      25769919989|1331439861772|42949672960|          1|\n",
      "|1992-02-01|             5.521|                         0.29|442904034.177821|157384300.972959|194720630.346759|58982269.8013754|89233318.0098797|940698224.176475|1883922777.48527|     6|      25769920001|1331439861772|42949672960|          1|\n",
      "|1992-03-01| 6.489000000000001|                        0.239|442904034.177821|157384300.972959|194720630.346759|58982269.8013754|89233318.0098797|940698224.176475|1883922777.48527|     6|      25769920013|1331439861772|42949672960|          1|\n",
      "|1992-04-01|            16.279|          0.33299999999999996|442904034.177821|157384300.972959|194720630.346759|58982269.8013754|89233318.0098797|940698224.176475|1883922777.48527|     6|      25769920025|1331439861772|42949672960|          1|\n",
      "|1992-05-01|             20.04|                        0.134|442904034.177821|157384300.972959|194720630.346759|58982269.8013754|89233318.0098797|940698224.176475|1883922777.48527|     6|      25769920037|1331439861772|42949672960|          1|\n",
      "+----------+------------------+-----------------------------+----------------+----------------+----------------+----------------+----------------+----------------+----------------+------+-----------------+-------------+-----------+-----------+\n",
      "only showing top 5 rows"
     ]
    }
   ],
   "source": [
    "globaltemp_footprint_df.show(5)"
   ]
  },
  {
   "cell_type": "markdown",
   "metadata": {
    "editable": true
   },
   "source": [
    "#### Load globaltemp_footprint_df, location_dm, record_dm, geopoint_dm, time_dm to S3 bucket (s3://capstone-project1/)"
   ]
  },
  {
   "cell_type": "code",
   "execution_count": 21,
   "metadata": {
    "editable": true
   },
   "outputs": [
    {
     "data": {
      "application/vnd.jupyter.widget-view+json": {
       "model_id": "a13ce5ee8af04ad2a3e4532422022fbb",
       "version_major": 2,
       "version_minor": 0
      },
      "text/plain": [
       "VBox()"
      ]
     },
     "metadata": {},
     "output_type": "display_data"
    },
    {
     "data": {
      "application/vnd.jupyter.widget-view+json": {
       "model_id": "",
       "version_major": 2,
       "version_minor": 0
      },
      "text/plain": [
       "FloatProgress(value=0.0, bar_style='info', description='Progress:', layout=Layout(height='25px', width='50%'),…"
      ]
     },
     "metadata": {},
     "output_type": "display_data"
    }
   ],
   "source": [
    "output_data = 's3a://capstone-project1/'"
   ]
  },
  {
   "cell_type": "code",
   "execution_count": 22,
   "metadata": {
    "editable": true
   },
   "outputs": [
    {
     "data": {
      "application/vnd.jupyter.widget-view+json": {
       "model_id": "02067bccac484f32952676016e4ea61a",
       "version_major": 2,
       "version_minor": 0
      },
      "text/plain": [
       "VBox()"
      ]
     },
     "metadata": {},
     "output_type": "display_data"
    },
    {
     "data": {
      "application/vnd.jupyter.widget-view+json": {
       "model_id": "",
       "version_major": 2,
       "version_minor": 0
      },
      "text/plain": [
       "FloatProgress(value=0.0, bar_style='info', description='Progress:', layout=Layout(height='25px', width='50%'),…"
      ]
     },
     "metadata": {},
     "output_type": "display_data"
    }
   ],
   "source": [
    "location_dm.write.parquet(output_data + 'location_dm/', mode='overwrite')"
   ]
  },
  {
   "cell_type": "code",
   "execution_count": 23,
   "metadata": {
    "editable": true
   },
   "outputs": [
    {
     "data": {
      "application/vnd.jupyter.widget-view+json": {
       "model_id": "e60c3a8c658c4378a97dc4c130f1c73c",
       "version_major": 2,
       "version_minor": 0
      },
      "text/plain": [
       "VBox()"
      ]
     },
     "metadata": {},
     "output_type": "display_data"
    },
    {
     "data": {
      "application/vnd.jupyter.widget-view+json": {
       "model_id": "",
       "version_major": 2,
       "version_minor": 0
      },
      "text/plain": [
       "FloatProgress(value=0.0, bar_style='info', description='Progress:', layout=Layout(height='25px', width='50%'),…"
      ]
     },
     "metadata": {},
     "output_type": "display_data"
    }
   ],
   "source": [
    "record_dm.write.parquet(output_data + 'record_dm/', mode='overwrite')"
   ]
  },
  {
   "cell_type": "code",
   "execution_count": 24,
   "metadata": {
    "editable": true
   },
   "outputs": [
    {
     "data": {
      "application/vnd.jupyter.widget-view+json": {
       "model_id": "7f91ef25516d49a0bb64b28f5be90edc",
       "version_major": 2,
       "version_minor": 0
      },
      "text/plain": [
       "VBox()"
      ]
     },
     "metadata": {},
     "output_type": "display_data"
    },
    {
     "data": {
      "application/vnd.jupyter.widget-view+json": {
       "model_id": "",
       "version_major": 2,
       "version_minor": 0
      },
      "text/plain": [
       "FloatProgress(value=0.0, bar_style='info', description='Progress:', layout=Layout(height='25px', width='50%'),…"
      ]
     },
     "metadata": {},
     "output_type": "display_data"
    }
   ],
   "source": [
    "time_dm.write.parquet(output_data + 'time_dm/', mode='overwrite')"
   ]
  },
  {
   "cell_type": "code",
   "execution_count": 25,
   "metadata": {
    "editable": true
   },
   "outputs": [
    {
     "data": {
      "application/vnd.jupyter.widget-view+json": {
       "model_id": "6b66ab9b51f245f297c0937506a0c159",
       "version_major": 2,
       "version_minor": 0
      },
      "text/plain": [
       "VBox()"
      ]
     },
     "metadata": {},
     "output_type": "display_data"
    },
    {
     "data": {
      "application/vnd.jupyter.widget-view+json": {
       "model_id": "",
       "version_major": 2,
       "version_minor": 0
      },
      "text/plain": [
       "FloatProgress(value=0.0, bar_style='info', description='Progress:', layout=Layout(height='25px', width='50%'),…"
      ]
     },
     "metadata": {},
     "output_type": "display_data"
    }
   ],
   "source": [
    "geopoint_dm.write.parquet(output_data + 'geopoint_dm/', mode='overwrite')"
   ]
  },
  {
   "cell_type": "code",
   "execution_count": 26,
   "metadata": {
    "editable": true
   },
   "outputs": [
    {
     "data": {
      "application/vnd.jupyter.widget-view+json": {
       "model_id": "3261ec1f00ed43ab83b66b67a0c53a0e",
       "version_major": 2,
       "version_minor": 0
      },
      "text/plain": [
       "VBox()"
      ]
     },
     "metadata": {},
     "output_type": "display_data"
    },
    {
     "data": {
      "application/vnd.jupyter.widget-view+json": {
       "model_id": "",
       "version_major": 2,
       "version_minor": 0
      },
      "text/plain": [
       "FloatProgress(value=0.0, bar_style='info', description='Progress:', layout=Layout(height='25px', width='50%'),…"
      ]
     },
     "metadata": {},
     "output_type": "display_data"
    }
   ],
   "source": [
    "globaltemp_footprint_df.write.parquet(output_data + 'globaltemp_footprint_df/', mode='overwrite')"
   ]
  },
  {
   "cell_type": "markdown",
   "metadata": {
    "editable": true
   },
   "source": [
    "#### 4.2 Data Quality Checks\n",
    "Explain the data quality checks you'll perform to ensure the pipeline ran as expected. These could include:\n",
    "1. Here is important check again if there are any duplicate values\n",
    "2. Check if the number of lines before upload to S3 bucket is the same in fact uploaded.\n",
    " \n",
    "Run Quality Checks"
   ]
  },
  {
   "cell_type": "code",
   "execution_count": 27,
   "metadata": {
    "editable": true
   },
   "outputs": [
    {
     "data": {
      "application/vnd.jupyter.widget-view+json": {
       "model_id": "bf40e01c143c40068d372f83dcd176c1",
       "version_major": 2,
       "version_minor": 0
      },
      "text/plain": [
       "VBox()"
      ]
     },
     "metadata": {},
     "output_type": "display_data"
    },
    {
     "data": {
      "application/vnd.jupyter.widget-view+json": {
       "model_id": "",
       "version_major": 2,
       "version_minor": 0
      },
      "text/plain": [
       "FloatProgress(value=0.0, bar_style='info', description='Progress:', layout=Layout(height='25px', width='50%'),…"
      ]
     },
     "metadata": {},
     "output_type": "display_data"
    },
    {
     "name": "stdout",
     "output_type": "stream",
     "text": [
      "+----------+\n",
      "|sum(count)|\n",
      "+----------+\n",
      "|      null|\n",
      "+----------+"
     ]
    }
   ],
   "source": [
    "import pyspark.sql.functions as f\n",
    "globaltemp_footprint_df.groupBy(globaltemp_footprint_df.columns)\\\n",
    "    .count()\\\n",
    "    .where(f.col('count') > 1)\\\n",
    "    .select(f.sum('count'))\\\n",
    "    .show()"
   ]
  },
  {
   "cell_type": "markdown",
   "metadata": {
    "editable": true
   },
   "source": [
    "from pyspark.sql.functions import isnan, when, count, col\n",
    "globaltemp_footprint_df.select([count(when(isnan(c) | col(c).isNull(), c)).alias(c) for c in globaltemp_footprint_df.columns]).show()"
   ]
  },
  {
   "cell_type": "code",
   "execution_count": 28,
   "metadata": {
    "editable": true
   },
   "outputs": [
    {
     "data": {
      "application/vnd.jupyter.widget-view+json": {
       "model_id": "9aeef254f40c42358602e7a02aaf5eca",
       "version_major": 2,
       "version_minor": 0
      },
      "text/plain": [
       "VBox()"
      ]
     },
     "metadata": {},
     "output_type": "display_data"
    },
    {
     "data": {
      "application/vnd.jupyter.widget-view+json": {
       "model_id": "",
       "version_major": 2,
       "version_minor": 0
      },
      "text/plain": [
       "FloatProgress(value=0.0, bar_style='info', description='Progress:', layout=Layout(height='25px', width='50%'),…"
      ]
     },
     "metadata": {},
     "output_type": "display_data"
    }
   ],
   "source": [
    "def data_quality_check(spark, non_uploaded_table, output_data , folder):\n",
    "    '''\n",
    "    Verify if the number of rows before and after upload to S3 have the same number\n",
    "    \n",
    "    Spark: spark session create by create_spark_session function\n",
    "    non_uploaded_table: the table before be uploaded\n",
    "    output_data: the s3 path where the data was uploaded\n",
    "    folder: name of the s3 folder\n",
    "    '''\n",
    "    # count the final row before uploaded\n",
    "    count_rows_non_uploaded_table = non_uploaded_table.count()\n",
    "    # load table uploaded\n",
    "    table_after_upload = spark.read.parquet(output_data + folder + '/')\n",
    "    # count rows of uploaded table\n",
    "    count_rows_upload_table = table_after_upload.count()\n",
    "\n",
    "    if count_rows_non_uploaded_table != count_rows_upload_table:\n",
    "        raise ValueError(f'Data quality checks failed. Not all rows were copied.')\n",
    "    else:\n",
    "        print(f'Data was copied completely.')"
   ]
  },
  {
   "cell_type": "code",
   "execution_count": 29,
   "metadata": {
    "editable": true
   },
   "outputs": [
    {
     "data": {
      "application/vnd.jupyter.widget-view+json": {
       "model_id": "ce60ef718a3a4676905d47d0759134ac",
       "version_major": 2,
       "version_minor": 0
      },
      "text/plain": [
       "VBox()"
      ]
     },
     "metadata": {},
     "output_type": "display_data"
    },
    {
     "data": {
      "application/vnd.jupyter.widget-view+json": {
       "model_id": "",
       "version_major": 2,
       "version_minor": 0
      },
      "text/plain": [
       "FloatProgress(value=0.0, bar_style='info', description='Progress:', layout=Layout(height='25px', width='50%'),…"
      ]
     },
     "metadata": {},
     "output_type": "display_data"
    }
   ],
   "source": [
    "output_data= 's3a://capstone-project1/'"
   ]
  },
  {
   "cell_type": "code",
   "execution_count": 30,
   "metadata": {
    "editable": true
   },
   "outputs": [
    {
     "data": {
      "application/vnd.jupyter.widget-view+json": {
       "model_id": "ace8e69c15a14640b457bfd22a7db2f7",
       "version_major": 2,
       "version_minor": 0
      },
      "text/plain": [
       "VBox()"
      ]
     },
     "metadata": {},
     "output_type": "display_data"
    },
    {
     "data": {
      "application/vnd.jupyter.widget-view+json": {
       "model_id": "",
       "version_major": 2,
       "version_minor": 0
      },
      "text/plain": [
       "FloatProgress(value=0.0, bar_style='info', description='Progress:', layout=Layout(height='25px', width='50%'),…"
      ]
     },
     "metadata": {},
     "output_type": "display_data"
    },
    {
     "name": "stdout",
     "output_type": "stream",
     "text": [
      "Data was copied completely."
     ]
    }
   ],
   "source": [
    "data_quality_check(spark, location_dm, output_data, 'location_dm')"
   ]
  },
  {
   "cell_type": "code",
   "execution_count": 31,
   "metadata": {
    "editable": true
   },
   "outputs": [
    {
     "data": {
      "application/vnd.jupyter.widget-view+json": {
       "model_id": "876a1af9d4a94f1783e5b5f233618d50",
       "version_major": 2,
       "version_minor": 0
      },
      "text/plain": [
       "VBox()"
      ]
     },
     "metadata": {},
     "output_type": "display_data"
    },
    {
     "data": {
      "application/vnd.jupyter.widget-view+json": {
       "model_id": "",
       "version_major": 2,
       "version_minor": 0
      },
      "text/plain": [
       "FloatProgress(value=0.0, bar_style='info', description='Progress:', layout=Layout(height='25px', width='50%'),…"
      ]
     },
     "metadata": {},
     "output_type": "display_data"
    },
    {
     "name": "stdout",
     "output_type": "stream",
     "text": [
      "Data was copied completely."
     ]
    }
   ],
   "source": [
    "data_quality_check(spark, record_dm, output_data, 'record_dm')"
   ]
  },
  {
   "cell_type": "code",
   "execution_count": 32,
   "metadata": {
    "editable": true
   },
   "outputs": [
    {
     "data": {
      "application/vnd.jupyter.widget-view+json": {
       "model_id": "1f1d6579a1394182b742491b8a3d61e6",
       "version_major": 2,
       "version_minor": 0
      },
      "text/plain": [
       "VBox()"
      ]
     },
     "metadata": {},
     "output_type": "display_data"
    },
    {
     "data": {
      "application/vnd.jupyter.widget-view+json": {
       "model_id": "",
       "version_major": 2,
       "version_minor": 0
      },
      "text/plain": [
       "FloatProgress(value=0.0, bar_style='info', description='Progress:', layout=Layout(height='25px', width='50%'),…"
      ]
     },
     "metadata": {},
     "output_type": "display_data"
    },
    {
     "name": "stdout",
     "output_type": "stream",
     "text": [
      "Data was copied completely."
     ]
    }
   ],
   "source": [
    "data_quality_check(spark, time_dm, output_data, 'time_dm')"
   ]
  },
  {
   "cell_type": "code",
   "execution_count": 33,
   "metadata": {
    "editable": true
   },
   "outputs": [
    {
     "data": {
      "application/vnd.jupyter.widget-view+json": {
       "model_id": "5f0649b4fc624c4a8df018201534f65b",
       "version_major": 2,
       "version_minor": 0
      },
      "text/plain": [
       "VBox()"
      ]
     },
     "metadata": {},
     "output_type": "display_data"
    },
    {
     "data": {
      "application/vnd.jupyter.widget-view+json": {
       "model_id": "",
       "version_major": 2,
       "version_minor": 0
      },
      "text/plain": [
       "FloatProgress(value=0.0, bar_style='info', description='Progress:', layout=Layout(height='25px', width='50%'),…"
      ]
     },
     "metadata": {},
     "output_type": "display_data"
    },
    {
     "name": "stdout",
     "output_type": "stream",
     "text": [
      "Data was copied completely."
     ]
    }
   ],
   "source": [
    "data_quality_check(spark, geopoint_dm, output_data, 'geopoint_dm')"
   ]
  },
  {
   "cell_type": "code",
   "execution_count": 34,
   "metadata": {
    "editable": true
   },
   "outputs": [
    {
     "data": {
      "application/vnd.jupyter.widget-view+json": {
       "model_id": "5e0b9c8ad8b842278bcba175773672f2",
       "version_major": 2,
       "version_minor": 0
      },
      "text/plain": [
       "VBox()"
      ]
     },
     "metadata": {},
     "output_type": "display_data"
    },
    {
     "data": {
      "application/vnd.jupyter.widget-view+json": {
       "model_id": "",
       "version_major": 2,
       "version_minor": 0
      },
      "text/plain": [
       "FloatProgress(value=0.0, bar_style='info', description='Progress:', layout=Layout(height='25px', width='50%'),…"
      ]
     },
     "metadata": {},
     "output_type": "display_data"
    },
    {
     "name": "stdout",
     "output_type": "stream",
     "text": [
      "Data was copied completely."
     ]
    }
   ],
   "source": [
    "data_quality_check(spark, globaltemp_footprint_df, output_data, 'globaltemp_footprint_df')"
   ]
  },
  {
   "cell_type": "markdown",
   "metadata": {
    "editable": true
   },
   "source": [
    "#### 4.3 Data dictionary \n",
    "![dictionary](./img/dictionary.png)\n"
   ]
  },
  {
   "cell_type": "markdown",
   "metadata": {
    "editable": true
   },
   "source": [
    "#### Step 5: Complete Project Write Up"
   ]
  },
  {
   "cell_type": "markdown",
   "metadata": {
    "editable": true
   },
   "source": [
    "#### About the project\n",
    "\n",
    "In this project was used Spark to process the data initially stored in S3. For this, was created an EMR cluster in AWS able to process it. It was a good choice because Spark works in a distributed fashion and EMR cluster can be upgraded the number and type of instances as the data grows. The S3 here has a fundamental role to store the dataset giving consistency and facilities to access all data.\n",
    "\n",
    "To the organization of the data, the dataset can be updated one time per year because the analysis can be done after data for an entire year has been collected from National Footprint dataset.\n",
    "\n",
    "\n",
    "#### Technologies\n",
    "\n",
    "* The data model used is start schema with only four dimension table (time_dm, lcoation_dm, geopoint_dm, record_dm). The start schema model is a great choice to do fast analysis joining tables.\n",
    "\n",
    "* AWS EMR (Spark Cluster): The best tool to process large dataset using Spark with low cost, elasticity in a easy way to use\n",
    "\n",
    "* Python: A programming language that has many libs and frameworks that able work with data\n",
    "\n",
    "* Amazon S3: Offer scalability, data availaility, security and perfomance\n",
    "\n",
    "#### Scenarios\n",
    "\n",
    "* The data was increased by 100x.\n",
    "    * Probably the the Spark EMR cluster would need to be modified in relation of the instance type and the number of cores to process all data\n",
    "\n",
    "\n",
    "* The pipelines would be run on a daily basis by 7 am every day\n",
    "    * The Airflow framework can schedule, effectively, to run all process with the data every single morning.\n",
    "\n",
    "\n",
    "* The database needed to be accessed by 100+ people.\n",
    "    * A security group would be created and pass all users to have the access of the S3"
   ]
  },
  {
   "cell_type": "code",
   "execution_count": null,
   "metadata": {
    "editable": true
   },
   "outputs": [],
   "source": []
  }
 ],
 "metadata": {
  "kernelspec": {
   "display_name": "PySpark",
   "language": "",
   "name": "pysparkkernel"
  },
  "language_info": {
   "codemirror_mode": {
    "name": "python",
    "version": 2
   },
   "mimetype": "text/x-python",
   "name": "pyspark",
   "pygments_lexer": "python2"
  }
 },
 "nbformat": 4,
 "nbformat_minor": 4
}
